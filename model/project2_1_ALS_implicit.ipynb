{
 "cells": [
  {
   "attachments": {},
   "cell_type": "markdown",
   "metadata": {},
   "source": [
    "# Train 데이터 불러오기"
   ]
  },
  {
   "cell_type": "code",
   "execution_count": 1,
   "metadata": {},
   "outputs": [],
   "source": [
    "import numpy as np\n",
    "import pandas as pd\n",
    "import scipy\n",
    "\n",
    "df = pd.read_csv('../data/train_data_by_time.csv')\n",
    "df.movie_title = df.movie_title.str[:-1]"
   ]
  },
  {
   "attachments": {},
   "cell_type": "markdown",
   "metadata": {},
   "source": [
    "# Implicit 라이브러리를 활용한 ALS 모델 학습"
   ]
  },
  {
   "cell_type": "code",
   "execution_count": 2,
   "metadata": {},
   "outputs": [
    {
     "name": "stderr",
     "output_type": "stream",
     "text": [
      "c:\\Users\\pc\\anaconda3\\envs\\cp2\\lib\\site-packages\\tqdm\\auto.py:22: TqdmWarning: IProgress not found. Please update jupyter and ipywidgets. See https://ipywidgets.readthedocs.io/en/stable/user_install.html\n",
      "  from .autonotebook import tqdm as notebook_tqdm\n",
      "c:\\Users\\pc\\anaconda3\\envs\\cp2\\lib\\site-packages\\implicit\\utils.py:33: UserWarning: Intel MKL BLAS detected. Its highly recommend to set the environment variable 'export MKL_NUM_THREADS=1' to disable its internal multithreading\n",
      "  warnings.warn(\n",
      "100%|██████████| 10/10 [00:00<00:00, 24.27it/s]\n"
     ]
    }
   ],
   "source": [
    "from implicit.evaluation import *\n",
    "from implicit.als import AlternatingLeastSquares as ALS\n",
    "from implicit.bpr import BayesianPersonalizedRanking as BPR\n",
    "\n",
    "users = list(np.sort(df['user_id'].unique()))\n",
    "movies = list(df['movie_title'].unique())\n",
    "\n",
    "rows = df['user_id'].astype('category').cat.codes\n",
    "cols = df['movie_title'].astype('category').cat.codes\n",
    "rating_matrix = scipy.sparse.csr_matrix((df['rating'], (rows, cols)))\n",
    "\n",
    "R = scipy.sparse.csr_matrix.toarray(rating_matrix)\n",
    "\n",
    "als_model = ALS(factors=20, regularization=0.01, iterations=10)\n",
    "als_model.fit(rating_matrix)\n",
    "\n",
    "result = np.dot(als_model.user_factors, als_model.item_factors.T) * 5\n",
    "result = pd.DataFrame(result.T, index=movies)"
   ]
  },
  {
   "attachments": {},
   "cell_type": "markdown",
   "metadata": {},
   "source": [
    "# 추천 영화 목록 출력함수"
   ]
  },
  {
   "cell_type": "code",
   "execution_count": 3,
   "metadata": {},
   "outputs": [],
   "source": [
    "def get_recommand_movies(user, cos_x=result, top=20):\n",
    "    # 해당 user가 평점을 높게 줄 것으로 예상되는 영화 목록 내림차순\n",
    "    re_li = cos_x.iloc[:, user-1].sort_values(ascending=False).index\n",
    "    \n",
    "    # 해당 user가 이미 시청한 영화 삭제\n",
    "    watched = list(df[df['user_id'] == user]['movie_title'])\n",
    "    re_li.drop(watched)\n",
    "    \n",
    "    return re_li[:top]"
   ]
  },
  {
   "attachments": {},
   "cell_type": "markdown",
   "metadata": {},
   "source": [
    "# Test 데이터 불러오기"
   ]
  },
  {
   "cell_type": "code",
   "execution_count": 4,
   "metadata": {},
   "outputs": [],
   "source": [
    "test = pd.read_csv('../data/test_data_by_time.csv')\n",
    "test.movie_title = test.movie_title.str[:-1]"
   ]
  },
  {
   "attachments": {},
   "cell_type": "markdown",
   "metadata": {},
   "source": [
    "# 성능평가 함수"
   ]
  },
  {
   "cell_type": "code",
   "execution_count": 5,
   "metadata": {},
   "outputs": [],
   "source": [
    "def test_score():\n",
    "    precision_list = []\n",
    "    recall_list = []\n",
    "    for i in test['user_id'].unique():\n",
    "        test_title = list(test[(test.rating>3) & (test.user_id==i)].movie_title)\n",
    "        try:\n",
    "            if len(test_title)>1:\n",
    "                recommended_list = list(get_recommand_movies(i))\n",
    "                count=0\n",
    "                for value in test_title:\n",
    "                    if value in recommended_list:\n",
    "                        count+=1\n",
    "            \n",
    "            precision = count/len(recommended_list)\n",
    "            recall = count/len(test_title)\n",
    "            precision_list.append(precision)\n",
    "            recall_list.append(recall)\n",
    "\n",
    "        except:\n",
    "            pass\n",
    "\n",
    "    return f'precision: {np.mean(precision_list)}, recall: {np.mean(recall_list)}'"
   ]
  },
  {
   "cell_type": "code",
   "execution_count": 6,
   "metadata": {},
   "outputs": [
    {
     "data": {
      "text/plain": [
       "'precision: 0.029621848739495794, recall: 0.054939682631716266'"
      ]
     },
     "execution_count": 6,
     "metadata": {},
     "output_type": "execute_result"
    }
   ],
   "source": [
    "test_score()"
   ]
  },
  {
   "cell_type": "code",
   "execution_count": null,
   "metadata": {},
   "outputs": [],
   "source": []
  }
 ],
 "metadata": {
  "kernelspec": {
   "display_name": "cp2",
   "language": "python",
   "name": "python3"
  },
  "language_info": {
   "codemirror_mode": {
    "name": "ipython",
    "version": 3
   },
   "file_extension": ".py",
   "mimetype": "text/x-python",
   "name": "python",
   "nbconvert_exporter": "python",
   "pygments_lexer": "ipython3",
   "version": "3.10.9"
  },
  "orig_nbformat": 4,
  "vscode": {
   "interpreter": {
    "hash": "2da6f8fc60d3bd5b90f8f5fcd48be407b787a8cf832d307f2e199849ddb8fb1d"
   }
  }
 },
 "nbformat": 4,
 "nbformat_minor": 2
}
