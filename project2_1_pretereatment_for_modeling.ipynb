{
  "nbformat": 4,
  "nbformat_minor": 0,
  "metadata": {
    "colab": {
      "provenance": [],
      "mount_file_id": "https://github.com/lover-swan/project2_1/blob/main/project2_1_pretereatment_for_modeling.ipynb",
      "authorship_tag": "ABX9TyOLKG9gO8I9VHYeBU+5QigV"
    },
    "kernelspec": {
      "name": "python3",
      "display_name": "Python 3"
    },
    "language_info": {
      "name": "python"
    }
  },
  "cells": [
    {
      "cell_type": "code",
      "execution_count": 23,
      "metadata": {
        "id": "yIFJgWVn43_g"
      },
      "outputs": [],
      "source": [
        "import pandas as pd"
      ]
    },
    {
      "cell_type": "code",
      "source": [
        "data1=pd.read_csv('/content/drive/MyDrive/project_2_1/data/full_data.csv')"
      ],
      "metadata": {
        "id": "-Yoqhzk64_72"
      },
      "execution_count": 24,
      "outputs": []
    },
    {
      "cell_type": "code",
      "source": [
        "data1.loc[data1['rating']<4, 'target'] = 0"
      ],
      "metadata": {
        "id": "GpeBkTlE62H1"
      },
      "execution_count": 25,
      "outputs": []
    },
    {
      "cell_type": "code",
      "source": [
        "data1.loc[data1['rating']>3, 'target'] = 1"
      ],
      "metadata": {
        "id": "SETrQCHw7b5u"
      },
      "execution_count": 26,
      "outputs": []
    },
    {
      "cell_type": "code",
      "source": [
        "user_id=data1.user_id.unique()"
      ],
      "metadata": {
        "id": "F0rukbHa9SLG"
      },
      "execution_count": 27,
      "outputs": []
    },
    {
      "cell_type": "code",
      "source": [
        "sample_index=[]\n",
        "for i in user_id:\n",
        "  df=data1[data1['user_id']==i]\n",
        "  sample_index += list(df.sample(frac=0.2, replace=False, random_state=21).index)"
      ],
      "metadata": {
        "id": "AFQUQfMX-KFM"
      },
      "execution_count": 28,
      "outputs": []
    },
    {
      "cell_type": "code",
      "source": [
        "train_data=data1.drop(index=sample_index)\n",
        "test_data=data1.loc[sample_index]"
      ],
      "metadata": {
        "id": "lnu-n3aeANVJ"
      },
      "execution_count": 29,
      "outputs": []
    },
    {
      "cell_type": "code",
      "source": [
        "train_data.to_csv('/content/drive/MyDrive/project_2_1/data/train_data.csv',index=False)\n",
        "test_data.to_csv('/content/drive/MyDrive/project_2_1/data/test_data.csv',index=False)"
      ],
      "metadata": {
        "id": "QxH_Pz6KBIJx"
      },
      "execution_count": 30,
      "outputs": []
    }
  ]
}